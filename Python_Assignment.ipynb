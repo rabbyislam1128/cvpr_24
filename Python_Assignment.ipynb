{
  "cells": [
    {
      "cell_type": "markdown",
      "metadata": {
        "id": "X8vPRRj-hDmi"
      },
      "source": [
        "List Operation"
      ]
    },
    {
      "cell_type": "code",
      "execution_count": null,
      "metadata": {
        "colab": {
          "base_uri": "https://localhost:8080/"
        },
        "id": "96FdB9TDg8xw",
        "outputId": "a3209133-450a-4b9c-ce30-71e40e84de42"
      },
      "outputs": [
        {
          "name": "stdout",
          "output_type": "stream",
          "text": [
            "[ 1  2  3  4  5  6  7  8  9 10]\n",
            "[1, 4, 9, 16, 25, 36, 49, 64, 81, 100]\n",
            "385\n"
          ]
        }
      ],
      "source": [
        "import numpy as np\n",
        "l=np.arange(1,11)\n",
        "print(l)\n",
        "print(list(map(lambda a: a*a, l)))\n",
        "print(sum(list(map(lambda a: a*a, l))))\n",
        "\n"
      ]
    },
    {
      "cell_type": "markdown",
      "metadata": {
        "id": "8Y6B9hmVhCUQ"
      },
      "source": [
        "Tuple Operation"
      ]
    },
    {
      "cell_type": "code",
      "execution_count": null,
      "metadata": {
        "colab": {
          "base_uri": "https://localhost:8080/"
        },
        "id": "d7pYN-F3nwSk",
        "outputId": "fc870316-9ba4-486c-ea24-00a6ac8ae8c5"
      },
      "outputs": [
        {
          "name": "stdout",
          "output_type": "stream",
          "text": [
            "3840\n"
          ]
        }
      ],
      "source": [
        "t=(2,4,6,8,10)\n",
        "print(np.prod(t))\n"
      ]
    },
    {
      "cell_type": "markdown",
      "metadata": {
        "id": "O5faBla7qCC4"
      },
      "source": [
        "sets operation"
      ]
    },
    {
      "cell_type": "code",
      "execution_count": null,
      "metadata": {
        "colab": {
          "base_uri": "https://localhost:8080/"
        },
        "id": "9GB1rOqpqD_v",
        "outputId": "fa97a589-305f-4ce9-ae85-090e0cd24c2f"
      },
      "outputs": [
        {
          "name": "stdout",
          "output_type": "stream",
          "text": [
            "{1, 3, 5, 7, 9}\n",
            "{1, 3, 5, 7, 9}\n"
          ]
        }
      ],
      "source": [
        "s1={1,3,5,7,9}\n",
        "s2={1,3,5,7,9}\n",
        "print(s1.union(s2))\n",
        "print(s1.intersection(s2))\n"
      ]
    },
    {
      "cell_type": "markdown",
      "metadata": {
        "id": "HoMhHkeirMyd"
      },
      "source": [
        "Dictionary"
      ]
    },
    {
      "cell_type": "code",
      "execution_count": 48,
      "metadata": {
        "colab": {
          "base_uri": "https://localhost:8080/"
        },
        "id": "unYh6SWLrO7A",
        "outputId": "6ee60637-dafe-402f-e045-af4915b569be"
      },
      "outputs": [
        {
          "output_type": "stream",
          "name": "stdout",
          "text": [
            "{'a': 97, 'b': 98, 'c': 99, 'd': 100, 'e': 101}\n"
          ]
        }
      ],
      "source": [
        "text='abcde'\n",
        "d={char:ord(char) for char in text}\n",
        "print(d)"
      ]
    },
    {
      "cell_type": "markdown",
      "metadata": {
        "id": "jVLQsaEnsT6e"
      },
      "source": [
        "functional programming"
      ]
    },
    {
      "cell_type": "code",
      "execution_count": 50,
      "metadata": {
        "colab": {
          "base_uri": "https://localhost:8080/",
          "height": 208
        },
        "id": "tZHliNMssYqK",
        "outputId": "d902b99f-5c6b-4d83-87e1-23737376da00"
      },
      "outputs": [
        {
          "output_type": "error",
          "ename": "TypeError",
          "evalue": "'numpy.ndarray' object is not callable",
          "traceback": [
            "\u001b[0;31m---------------------------------------------------------------------------\u001b[0m",
            "\u001b[0;31mTypeError\u001b[0m                                 Traceback (most recent call last)",
            "\u001b[0;32m<ipython-input-50-4528c24ba4f2>\u001b[0m in \u001b[0;36m<cell line: 4>\u001b[0;34m()\u001b[0m\n\u001b[1;32m      2\u001b[0m   \u001b[0;32mreturn\u001b[0m \u001b[0ma\u001b[0m\u001b[0;34m*\u001b[0m\u001b[0ma\u001b[0m\u001b[0;34m\u001b[0m\u001b[0;34m\u001b[0m\u001b[0m\n\u001b[1;32m      3\u001b[0m \u001b[0ml\u001b[0m\u001b[0;34m=\u001b[0m\u001b[0mnp\u001b[0m\u001b[0;34m.\u001b[0m\u001b[0marange\u001b[0m\u001b[0;34m(\u001b[0m\u001b[0;36m1\u001b[0m\u001b[0;34m,\u001b[0m\u001b[0;36m11\u001b[0m\u001b[0;34m)\u001b[0m\u001b[0;34m\u001b[0m\u001b[0;34m\u001b[0m\u001b[0m\n\u001b[0;32m----> 4\u001b[0;31m \u001b[0mprint\u001b[0m\u001b[0;34m(\u001b[0m\u001b[0mlist\u001b[0m\u001b[0;34m(\u001b[0m\u001b[0mmap\u001b[0m\u001b[0;34m(\u001b[0m\u001b[0ms\u001b[0m\u001b[0;34m,\u001b[0m\u001b[0ml\u001b[0m\u001b[0;34m)\u001b[0m\u001b[0;34m)\u001b[0m\u001b[0;34m)\u001b[0m\u001b[0;34m\u001b[0m\u001b[0;34m\u001b[0m\u001b[0m\n\u001b[0m",
            "\u001b[0;31mTypeError\u001b[0m: 'numpy.ndarray' object is not callable"
          ]
        }
      ],
      "source": [
        "def s(a):\n",
        "  return a*a\n",
        "l=np.arange(1,11)\n",
        "print(list(map(s,l)))"
      ]
    }
  ],
  "metadata": {
    "colab": {
      "provenance": []
    },
    "kernelspec": {
      "display_name": "Python 3",
      "name": "python3"
    },
    "language_info": {
      "name": "python"
    }
  },
  "nbformat": 4,
  "nbformat_minor": 0
}